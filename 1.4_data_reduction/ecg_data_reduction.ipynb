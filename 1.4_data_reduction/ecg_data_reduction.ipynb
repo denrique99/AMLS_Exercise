{
 "cells": [
  {
   "cell_type": "markdown",
   "id": "2dbcdd1c",
   "metadata": {},
   "source": [
    "# Task 1.4 – ECG - data reduction\n",
    "Reduce the data with"
   ]
  },
  {
   "cell_type": "markdown",
   "id": "1dabcb67",
   "metadata": {},
   "source": [
    "1.4 Data Reduction"
   ]
  },
  {
   "cell_type": "markdown",
   "id": "4795d3d3",
   "metadata": {},
   "source": [
    "Step 1: Load the original raw training data"
   ]
  }
 ],
 "metadata": {
  "kernelspec": {
   "display_name": ".venv",
   "language": "python",
   "name": "python3"
  },
  "language_info": {
   "codemirror_mode": {
    "name": "ipython",
    "version": 3
   },
   "file_extension": ".py",
   "mimetype": "text/x-python",
   "name": "python",
   "nbconvert_exporter": "python",
   "pygments_lexer": "ipython3",
   "version": "3.9.6"
  }
 },
 "nbformat": 4,
 "nbformat_minor": 5
}
