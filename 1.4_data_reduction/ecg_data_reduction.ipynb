{
 "cells": [
  {
   "cell_type": "markdown",
   "id": "2dbcdd1c",
   "metadata": {},
   "source": [
    "# Task 1.4 – ECG - data reduction\n",
    "Reduce the data with"
   ]
  },
  {
   "cell_type": "markdown",
   "id": "1dabcb67",
   "metadata": {},
   "source": [
    "1.4 Data Reduction"
   ]
  },
  {
   "cell_type": "code",
   "execution_count": null,
   "id": "ec86ca8c",
   "metadata": {
    "vscode": {
     "languageId": "plaintext"
    }
   },
   "outputs": [],
   "source": []
  }
 ],
 "metadata": {
  "language_info": {
   "name": "python"
  }
 },
 "nbformat": 4,
 "nbformat_minor": 5
}
